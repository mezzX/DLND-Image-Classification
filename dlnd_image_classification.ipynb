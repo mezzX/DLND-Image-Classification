{
 "cells": [
  {
   "cell_type": "markdown",
   "metadata": {
    "collapsed": true
   },
   "source": [
    "# Image Classification\n",
    "In this project, you'll classify images from the [CIFAR-10 dataset](https://www.cs.toronto.edu/~kriz/cifar.html).  The dataset consists of airplanes, dogs, cats, and other objects. You'll preprocess the images, then train a convolutional neural network on all the samples. The images need to be normalized and the labels need to be one-hot encoded.  You'll get to apply what you learned and build a convolutional, max pooling, dropout, and fully connected layers.  At the end, you'll get to see your neural network's predictions on the sample images.\n",
    "## Get the Data\n",
    "Run the following cell to download the [CIFAR-10 dataset for python](https://www.cs.toronto.edu/~kriz/cifar-10-python.tar.gz)."
   ]
  },
  {
   "cell_type": "code",
   "execution_count": 39,
   "metadata": {},
   "outputs": [
    {
     "name": "stdout",
     "output_type": "stream",
     "text": [
      "All files found!\n"
     ]
    }
   ],
   "source": [
    "\"\"\"\n",
    "DON'T MODIFY ANYTHING IN THIS CELL THAT IS BELOW THIS LINE\n",
    "\"\"\"\n",
    "from urllib.request import urlretrieve\n",
    "from os.path import isfile, isdir\n",
    "from tqdm import tqdm\n",
    "import problem_unittests as tests\n",
    "import tarfile\n",
    "\n",
    "cifar10_dataset_folder_path = 'cifar-10-batches-py'\n",
    "\n",
    "# Use Floyd's cifar-10 dataset if present\n",
    "floyd_cifar10_location = '/input/cifar-10/python.tar.gz'\n",
    "if isfile(floyd_cifar10_location):\n",
    "    tar_gz_path = floyd_cifar10_location\n",
    "else:\n",
    "    tar_gz_path = 'cifar-10-python.tar.gz'\n",
    "\n",
    "class DLProgress(tqdm):\n",
    "    last_block = 0\n",
    "\n",
    "    def hook(self, block_num=1, block_size=1, total_size=None):\n",
    "        self.total = total_size\n",
    "        self.update((block_num - self.last_block) * block_size)\n",
    "        self.last_block = block_num\n",
    "\n",
    "if not isfile(tar_gz_path):\n",
    "    with DLProgress(unit='B', unit_scale=True, miniters=1, desc='CIFAR-10 Dataset') as pbar:\n",
    "        urlretrieve(\n",
    "            'https://www.cs.toronto.edu/~kriz/cifar-10-python.tar.gz',\n",
    "            tar_gz_path,\n",
    "            pbar.hook)\n",
    "\n",
    "if not isdir(cifar10_dataset_folder_path):\n",
    "    with tarfile.open(tar_gz_path) as tar:\n",
    "        tar.extractall()\n",
    "        tar.close()\n",
    "\n",
    "\n",
    "tests.test_folder_path(cifar10_dataset_folder_path)"
   ]
  },
  {
   "cell_type": "markdown",
   "metadata": {},
   "source": [
    "## Explore the Data\n",
    "The dataset is broken into batches to prevent your machine from running out of memory.  The CIFAR-10 dataset consists of 5 batches, named `data_batch_1`, `data_batch_2`, etc.. Each batch contains the labels and images that are one of the following:\n",
    "* airplane\n",
    "* automobile\n",
    "* bird\n",
    "* cat\n",
    "* deer\n",
    "* dog\n",
    "* frog\n",
    "* horse\n",
    "* ship\n",
    "* truck\n",
    "\n",
    "Understanding a dataset is part of making predictions on the data.  Play around with the code cell below by changing the `batch_id` and `sample_id`. The `batch_id` is the id for a batch (1-5). The `sample_id` is the id for a image and label pair in the batch.\n",
    "\n",
    "Ask yourself \"What are all possible labels?\", \"What is the range of values for the image data?\", \"Are the labels in order or random?\".  Answers to questions like these will help you preprocess the data and end up with better predictions."
   ]
  },
  {
   "cell_type": "code",
   "execution_count": 40,
   "metadata": {},
   "outputs": [
    {
     "name": "stdout",
     "output_type": "stream",
     "text": [
      "\n",
      "Stats of batch 1:\n",
      "Samples: 10000\n",
      "Label Counts: {0: 1005, 1: 974, 2: 1032, 3: 1016, 4: 999, 5: 937, 6: 1030, 7: 1001, 8: 1025, 9: 981}\n",
      "First 20 Labels: [6, 9, 9, 4, 1, 1, 2, 7, 8, 3, 4, 7, 7, 2, 9, 9, 9, 3, 2, 6]\n",
      "\n",
      "Example of Image 5:\n",
      "Image - Min Value: 0 Max Value: 252\n",
      "Image - Shape: (32, 32, 3)\n",
      "Label - Label Id: 1 Name: automobile\n"
     ]
    },
    {
     "data": {
      "image/png": "[encoded data removed]",
      "text/plain": [
       "<matplotlib.figure.Figure at 0x192dc392cf8>"
      ]
     },
     "metadata": {
      "image/png": {
       "height": 250,
       "width": 253
      }
     },
     "output_type": "display_data"
    }
   ],
   "source": [
    "%matplotlib inline\n",
    "%config InlineBackend.figure_format = 'retina'\n",
    "\n",
    "import helper\n",
    "import numpy as np\n",
    "\n",
    "# Explore the dataset\n",
    "batch_id = 1\n",
    "sample_id = 5\n",
    "helper.display_stats(cifar10_dataset_folder_path, batch_id, sample_id)"
   ]
  },
  {
   "cell_type": "markdown",
   "metadata": {},
   "source": [
    "## Implement Preprocess Functions\n",
    "### Normalize\n",
    "In the cell below, implement the `normalize` function to take in image data, `x`, and return it as a normalized Numpy array. The values should be in the range of 0 to 1, inclusive.  The return object should be the same shape as `x`."
   ]
  },
  {
   "cell_type": "code",
   "execution_count": 41,
   "metadata": {},
   "outputs": [
    {
     "name": "stdout",
     "output_type": "stream",
     "text": [
      "Tests Passed\n"
     ]
    }
   ],
   "source": [
    "def normalize(x):\n",
    "    \"\"\"\n",
    "    Normalize a list of sample image data in the range of 0 to 1\n",
    "    : x: List of image data.  The image shape is (32, 32, 3)\n",
    "    : return: Numpy array of normalize data\n",
    "    \"\"\"\n",
    "    # TODO: Implement Function\n",
    "    x_min = np.amin(x)\n",
    "    x_max = np.amax(x)\n",
    "    a = 1.0\n",
    "    b = 0.0\n",
    "    return (x - x_min) * (a - b) / x_max - x_min\n",
    "\n",
    "\n",
    "\"\"\"\n",
    "DON'T MODIFY ANYTHING IN THIS CELL THAT IS BELOW THIS LINE\n",
    "\"\"\"\n",
    "tests.test_normalize(normalize)"
   ]
  },
  {
   "cell_type": "markdown",
   "metadata": {},
   "source": [
    "### One-hot encode\n",
    "Just like the previous code cell, you'll be implementing a function for preprocessing.  This time, you'll implement the `one_hot_encode` function. The input, `x`, are a list of labels.  Implement the function to return the list of labels as One-Hot encoded Numpy array.  The possible values for labels are 0 to 9. The one-hot encoding function should return the same encoding for each value between each call to `one_hot_encode`.  Make sure to save the map of encodings outside the function.\n",
    "\n",
    "Hint: Don't reinvent the wheel."
   ]
  },
  {
   "cell_type": "code",
   "execution_count": 42,
   "metadata": {
    "scrolled": true
   },
   "outputs": [
    {
     "name": "stdout",
     "output_type": "stream",
     "text": [
      "Tests Passed\n"
     ]
    }
   ],
   "source": [
    "def one_hot_encode(x):\n",
    "    \"\"\"\n",
    "    One hot encode a list of sample labels. Return a one-hot encoded vector for each label.\n",
    "    : x: List of sample Labels\n",
    "    : return: Numpy array of one-hot encoded labels\n",
    "    \"\"\"\n",
    "    # TODO: Implement Function\n",
    "    enc_labels = np.zeros((len(x), 10))\n",
    "    for i in range(len(x)):\n",
    "        enc_labels[i, x[i]] = 1\n",
    "        \n",
    "    return enc_labels\n",
    "\n",
    "\n",
    "\"\"\"\n",
    "DON'T MODIFY ANYTHING IN THIS CELL THAT IS BELOW THIS LINE\n",
    "\"\"\"\n",
    "tests.test_one_hot_encode(one_hot_encode)"
   ]
  },
  {
   "cell_type": "markdown",
   "metadata": {},
   "source": [
    "### Randomize Data\n",
    "As you saw from exploring the data above, the order of the samples are randomized.  It doesn't hurt to randomize it again, but you don't need to for this dataset."
   ]
  },
  {
   "cell_type": "markdown",
   "metadata": {},
   "source": [
    "## Preprocess all the data and save it\n",
    "Running the code cell below will preprocess all the CIFAR-10 data and save it to file. The code below also uses 10% of the training data for validation."
   ]
  },
  {
   "cell_type": "code",
   "execution_count": 43,
   "metadata": {
    "collapsed": true
   },
   "outputs": [],
   "source": [
    "\"\"\"\n",
    "DON'T MODIFY ANYTHING IN THIS CELL\n",
    "\"\"\"\n",
    "# Preprocess Training, Validation, and Testing Data\n",
    "helper.preprocess_and_save_data(cifar10_dataset_folder_path, normalize, one_hot_encode)"
   ]
  },
  {
   "cell_type": "markdown",
   "metadata": {},
   "source": [
    "# Check Point\n",
    "This is your first checkpoint.  If you ever decide to come back to this notebook or have to restart the notebook, you can start from here.  The preprocessed data has been saved to disk."
   ]
  },
  {
   "cell_type": "code",
   "execution_count": 1,
   "metadata": {
    "collapsed": true
   },
   "outputs": [],
   "source": [
    "\"\"\"\n",
    "DON'T MODIFY ANYTHING IN THIS CELL\n",
    "\"\"\"\n",
    "import pickle\n",
    "import problem_unittests as tests\n",
    "import helper\n",
    "import numpy as np\n",
    "\n",
    "# Load the Preprocessed Validation data\n",
    "valid_features, valid_labels = pickle.load(open('preprocess_validation.p', mode='rb'))"
   ]
  },
  {
   "cell_type": "markdown",
   "metadata": {},
   "source": [
    "## Build the network\n",
    "For the neural network, you'll build each layer into a function.  Most of the code you've seen has been outside of functions. To test your code more thoroughly, we require that you put each layer in a function.  This allows us to give you better feedback and test for simple mistakes using our unittests before you submit your project.\n",
    "\n",
    ">**Note:** If you're finding it hard to dedicate enough time for this course each week, we've provided a small shortcut to this part of the project. In the next couple of problems, you'll have the option to use classes from the [TensorFlow Layers](https://www.tensorflow.org/api_docs/python/tf/layers) or [TensorFlow Layers (contrib)](https://www.tensorflow.org/api_guides/python/contrib.layers) packages to build each layer, except the layers you build in the \"Convolutional and Max Pooling Layer\" section.  TF Layers is similar to Keras's and TFLearn's abstraction to layers, so it's easy to pickup.\n",
    "\n",
    ">However, if you would like to get the most out of this course, try to solve all the problems _without_ using anything from the TF Layers packages. You **can** still use classes from other packages that happen to have the same name as ones you find in TF Layers! For example, instead of using the TF Layers version of the `conv2d` class, [tf.layers.conv2d](https://www.tensorflow.org/api_docs/python/tf/layers/conv2d), you would want to use the TF Neural Network version of `conv2d`, [tf.nn.conv2d](https://www.tensorflow.org/api_docs/python/tf/nn/conv2d). \n",
    "\n",
    "Let's begin!\n",
    "\n",
    "### Input\n",
    "The neural network needs to read the image data, one-hot encoded labels, and dropout keep probability. Implement the following functions\n",
    "* Implement `neural_net_image_input`\n",
    " * Return a [TF Placeholder](https://www.tensorflow.org/api_docs/python/tf/placeholder)\n",
    " * Set the shape using `image_shape` with batch size set to `None`.\n",
    " * Name the TensorFlow placeholder \"x\" using the TensorFlow `name` parameter in the [TF Placeholder](https://www.tensorflow.org/api_docs/python/tf/placeholder).\n",
    "* Implement `neural_net_label_input`\n",
    " * Return a [TF Placeholder](https://www.tensorflow.org/api_docs/python/tf/placeholder)\n",
    " * Set the shape using `n_classes` with batch size set to `None`.\n",
    " * Name the TensorFlow placeholder \"y\" using the TensorFlow `name` parameter in the [TF Placeholder](https://www.tensorflow.org/api_docs/python/tf/placeholder).\n",
    "* Implement `neural_net_keep_prob_input`\n",
    " * Return a [TF Placeholder](https://www.tensorflow.org/api_docs/python/tf/placeholder) for dropout keep probability.\n",
    " * Name the TensorFlow placeholder \"keep_prob\" using the TensorFlow `name` parameter in the [TF Placeholder](https://www.tensorflow.org/api_docs/python/tf/placeholder).\n",
    "\n",
    "These names will be used at the end of the project to load your saved model.\n",
    "\n",
    "Note: `None` for shapes in TensorFlow allow for a dynamic size."
   ]
  },
  {
   "cell_type": "code",
   "execution_count": 2,
   "metadata": {},
   "outputs": [
    {
     "name": "stdout",
     "output_type": "stream",
     "text": [
      "Image Input Tests Passed.\n",
      "Label Input Tests Passed.\n",
      "Keep Prob Tests Passed.\n"
     ]
    }
   ],
   "source": [
    "import tensorflow as tf\n",
    "\n",
    "def neural_net_image_input(image_shape):\n",
    "    \"\"\"\n",
    "    Return a Tensor for a batch of image input\n",
    "    : image_shape: Shape of the images\n",
    "    : return: Tensor for image input.\n",
    "    \"\"\"\n",
    "    # TODO: Implement Function\n",
    "    return tf.placeholder(tf.float32, [None, image_shape[0], image_shape[1], image_shape[2]], name = 'x')\n",
    "\n",
    "\n",
    "def neural_net_label_input(n_classes):\n",
    "    \"\"\"\n",
    "    Return a Tensor for a batch of label input\n",
    "    : n_classes: Number of classes\n",
    "    : return: Tensor for label input.\n",
    "    \"\"\"\n",
    "    # TODO: Implement Function\n",
    "    return tf.placeholder(tf.float32, [None, n_classes], name = 'y')\n",
    "\n",
    "\n",
    "def neural_net_keep_prob_input():\n",
    "    \"\"\"\n",
    "    Return a Tensor for keep probability\n",
    "    : return: Tensor for keep probability.\n",
    "    \"\"\"\n",
    "    # TODO: Implement Function\n",
    "    return tf.placeholder(tf.float32, name = 'keep_prob')\n",
    "\n",
    "\n",
    "\"\"\"\n",
    "DON'T MODIFY ANYTHING IN THIS CELL THAT IS BELOW THIS LINE\n",
    "\"\"\"\n",
    "tf.reset_default_graph()\n",
    "tests.test_nn_image_inputs(neural_net_image_input)\n",
    "tests.test_nn_label_inputs(neural_net_label_input)\n",
    "tests.test_nn_keep_prob_inputs(neural_net_keep_prob_input)"
   ]
  },
  {
   "cell_type": "markdown",
   "metadata": {},
   "source": [
    "### Convolution and Max Pooling Layer\n",
    "Convolution layers have a lot of success with images. For this code cell, you should implement the function `conv2d_maxpool` to apply convolution then max pooling:\n",
    "* Create the weight and bias using `conv_ksize`, `conv_num_outputs` and the shape of `x_tensor`.\n",
    "* Apply a convolution to `x_tensor` using weight and `conv_strides`.\n",
    " * We recommend you use same padding, but you're welcome to use any padding.\n",
    "* Add bias\n",
    "* Add a nonlinear activation to the convolution.\n",
    "* Apply Max Pooling using `pool_ksize` and `pool_strides`.\n",
    " * We recommend you use same padding, but you're welcome to use any padding.\n",
    "\n",
    "**Note:** You **can't** use [TensorFlow Layers](https://www.tensorflow.org/api_docs/python/tf/layers) or [TensorFlow Layers (contrib)](https://www.tensorflow.org/api_guides/python/contrib.layers) for **this** layer, but you can still use TensorFlow's [Neural Network](https://www.tensorflow.org/api_docs/python/tf/nn) package. You may still use the shortcut option for all the **other** layers."
   ]
  },
  {
   "cell_type": "code",
   "execution_count": 3,
   "metadata": {},
   "outputs": [
    {
     "name": "stdout",
     "output_type": "stream",
     "text": [
      "Tests Passed\n"
     ]
    }
   ],
   "source": [
    "def conv2d_maxpool(x_tensor, conv_num_outputs, conv_ksize, conv_strides, pool_ksize, pool_strides):\n",
    "    \"\"\"\n",
    "    Apply convolution then max pooling to x_tensor\n",
    "    :param x_tensor: TensorFlow Tensor\n",
    "    :param conv_num_outputs: Number of outputs for the convolutional layer\n",
    "    :param conv_ksize: kernal size 2-D Tuple for the convolutional layer\n",
    "    :param conv_strides: Stride 2-D Tuple for convolution\n",
    "    :param pool_ksize: kernal size 2-D Tuple for pool\n",
    "    :param pool_strides: Stride 2-D Tuple for pool\n",
    "    : return: A tensor that represents convolution and max pooling of x_tensor\n",
    "    \"\"\"\n",
    "    # TODO: Implement Function\n",
    "    input_size = x_tensor.get_shape().as_list()\n",
    "    shape = list(conv_ksize + (input_size[-1],) + (conv_num_outputs,))\n",
    "    # height, width, input_depth, output_depth\n",
    "    weights = tf.Variable(tf.truncated_normal(shape, stddev = 0.1))\n",
    "    bias = tf.Variable(tf.zeros(conv_num_outputs))\n",
    "    \n",
    "    output = tf.nn.conv2d(x_tensor, weights, strides = [1, conv_strides[0], conv_strides[1], 1], padding = 'SAME')\n",
    "    output = tf.nn.bias_add(output, bias)\n",
    "    output = tf.nn.relu(output)\n",
    "    output = tf.nn.max_pool(output, ksize = [1, pool_ksize[0], pool_ksize[1], 1], strides = [1, pool_strides[0], pool_strides[1], 1], padding = 'SAME')\n",
    "    return output\n",
    "\n",
    "\"\"\"\n",
    "DON'T MODIFY ANYTHING IN THIS CELL THAT IS BELOW THIS LINE\n",
    "\"\"\"\n",
    "tests.test_con_pool(conv2d_maxpool)"
   ]
  },
  {
   "cell_type": "code",
   "execution_count": 4,
   "metadata": {
    "collapsed": true
   },
   "outputs": [],
   "source": [
    "def avgpool(x_tensor, pool_ksize, pool_strides):\n",
    "    \"\"\"\n",
    "    Apply avg pooling to x_tensor\n",
    "    :param x_tensor: TensorFlow Tensor\n",
    "    :param pool_ksize: kernal size 2-D Tuple for pool\n",
    "    :param pool_strides: Stride 2-D Tuple for pool\n",
    "    : return: A tensor that represents avg pooling of x_tensor\n",
    "    \"\"\"\n",
    "    output = tf.nn.avg_pool(x_tensor, ksize = [1, pool_ksize[0], pool_ksize[1], 1], strides = [1, pool_strides[0], pool_strides[1], 1], padding = 'SAME')\n",
    "    return output"
   ]
  },
  {
   "cell_type": "code",
   "execution_count": 5,
   "metadata": {
    "collapsed": true
   },
   "outputs": [],
   "source": [
    "def conv2d_nopool(x_tensor, conv_num_outputs, conv_ksize, conv_strides):\n",
    "    \"\"\"\n",
    "    Apply convolution to x_tensor\n",
    "    :param x_tensor: TensorFlow Tensor\n",
    "    :param conv_num_outputs: Number of outputs for the convolutional layer\n",
    "    :param conv_ksize: kernal size 2-D Tuple for the convolutional layer\n",
    "    :param conv_strides: Stride 2-D Tuple for convolution\n",
    "    : return: A tensor that represents convolution x_tensor\n",
    "    \"\"\"\n",
    "    # TODO: Implement Function\n",
    "    input_size = x_tensor.get_shape().as_list()\n",
    "    shape = list(conv_ksize + (input_size[-1],) + (conv_num_outputs,))\n",
    "    # height, width, input_depth, output_depth\n",
    "    weights = tf.Variable(tf.truncated_normal(shape, stddev = 0.1))\n",
    "    bias = tf.Variable(tf.zeros(conv_num_outputs))\n",
    "    \n",
    "    output = tf.nn.conv2d(x_tensor, weights, strides = [1, conv_strides[0], conv_strides[1], 1], padding = 'SAME')\n",
    "    output = tf.nn.bias_add(output, bias)\n",
    "    output = tf.nn.relu(output)\n",
    "    return output"
   ]
  },
  {
   "cell_type": "markdown",
   "metadata": {},
   "source": [
    "### Flatten Layer\n",
    "Implement the `flatten` function to change the dimension of `x_tensor` from a 4-D tensor to a 2-D tensor.  The output should be the shape (*Batch Size*, *Flattened Image Size*). Shortcut option: you can use classes from the [TensorFlow Layers](https://www.tensorflow.org/api_docs/python/tf/layers) or [TensorFlow Layers (contrib)](https://www.tensorflow.org/api_guides/python/contrib.layers) packages for this layer. For more of a challenge, only use other TensorFlow packages."
   ]
  },
  {
   "cell_type": "code",
   "execution_count": 6,
   "metadata": {},
   "outputs": [
    {
     "name": "stdout",
     "output_type": "stream",
     "text": [
      "Tests Passed\n"
     ]
    }
   ],
   "source": [
    "def flatten(x_tensor):\n",
    "    \"\"\"\n",
    "    Flatten x_tensor to (Batch Size, Flattened Image Size)\n",
    "    : x_tensor: A tensor of size (Batch Size, ...), where ... are the image dimensions.\n",
    "    : return: A tensor of size (Batch Size, Flattened Image Size).\n",
    "    \"\"\"\n",
    "    # TODO: Implement Function\n",
    "    input_size = x_tensor.get_shape().as_list()\n",
    "    flat = tf.reshape(x_tensor, [-1, np.prod(input_size[1:])])\n",
    "    return flat\n",
    "\n",
    "\n",
    "\"\"\"\n",
    "DON'T MODIFY ANYTHING IN THIS CELL THAT IS BELOW THIS LINE\n",
    "\"\"\"\n",
    "tests.test_flatten(flatten)"
   ]
  },
  {
   "cell_type": "markdown",
   "metadata": {},
   "source": [
    "### Fully-Connected Layer\n",
    "Implement the `fully_conn` function to apply a fully connected layer to `x_tensor` with the shape (*Batch Size*, *num_outputs*). Shortcut option: you can use classes from the [TensorFlow Layers](https://www.tensorflow.org/api_docs/python/tf/layers) or [TensorFlow Layers (contrib)](https://www.tensorflow.org/api_guides/python/contrib.layers) packages for this layer. For more of a challenge, only use other TensorFlow packages."
   ]
  },
  {
   "cell_type": "code",
   "execution_count": 7,
   "metadata": {},
   "outputs": [
    {
     "name": "stdout",
     "output_type": "stream",
     "text": [
      "Tests Passed\n"
     ]
    }
   ],
   "source": [
    "def fully_conn(x_tensor, num_outputs):\n",
    "    \"\"\"\n",
    "    Apply a fully connected layer to x_tensor using weight and bias\n",
    "    : x_tensor: A 2-D tensor where the first dimension is batch size.\n",
    "    : num_outputs: The number of output that the new tensor should be.\n",
    "    : return: A 2-D tensor where the second dimension is num_outputs.\n",
    "    \"\"\"\n",
    "    # TODO: Implement Function\n",
    "    input_size = x_tensor.get_shape().as_list()\n",
    "    shape = list((input_size[-1],) + (num_outputs,))\n",
    "    weights = tf.Variable(tf.truncated_normal(shape, stddev = 0.1))\n",
    "    bias = tf.Variable(tf.zeros(num_outputs))\n",
    "    layer = tf.add(tf.matmul(x_tensor, weights), bias)\n",
    "    layer = tf.nn.relu(layer)\n",
    "    return layer\n",
    "\n",
    "\n",
    "\"\"\"\n",
    "DON'T MODIFY ANYTHING IN THIS CELL THAT IS BELOW THIS LINE\n",
    "\"\"\"\n",
    "tests.test_fully_conn(fully_conn)"
   ]
  },
  {
   "cell_type": "markdown",
   "metadata": {},
   "source": [
    "### Output Layer\n",
    "Implement the `output` function to apply a fully connected layer to `x_tensor` with the shape (*Batch Size*, *num_outputs*). Shortcut option: you can use classes from the [TensorFlow Layers](https://www.tensorflow.org/api_docs/python/tf/layers) or [TensorFlow Layers (contrib)](https://www.tensorflow.org/api_guides/python/contrib.layers) packages for this layer. For more of a challenge, only use other TensorFlow packages.\n",
    "\n",
    "**Note:** Activation, softmax, or cross entropy should **not** be applied to this."
   ]
  },
  {
   "cell_type": "code",
   "execution_count": 8,
   "metadata": {},
   "outputs": [
    {
     "name": "stdout",
     "output_type": "stream",
     "text": [
      "Tests Passed\n"
     ]
    }
   ],
   "source": [
    "def output(x_tensor, num_outputs):\n",
    "    \"\"\"\n",
    "    Apply a output layer to x_tensor using weight and bias\n",
    "    : x_tensor: A 2-D tensor where the first dimension is batch size.\n",
    "    : num_outputs: The number of output that the new tensor should be.\n",
    "    : return: A 2-D tensor where the second dimension is num_outputs.\n",
    "    \"\"\"\n",
    "    # TODO: Implement Function    \n",
    "    input_size = x_tensor.get_shape().as_list()\n",
    "    shape = list((input_size[-1],) + (num_outputs,))\n",
    "    weights = tf.Variable(tf.truncated_normal(shape, stddev = 0.1))\n",
    "    bias = tf.Variable(tf.zeros(num_outputs))\n",
    "    layer = tf.add(tf.matmul(x_tensor, weights), bias)\n",
    "    return layer\n",
    "\n",
    "\n",
    "\"\"\"\n",
    "DON'T MODIFY ANYTHING IN THIS CELL THAT IS BELOW THIS LINE\n",
    "\"\"\"\n",
    "tests.test_output(output)"
   ]
  },
  {
   "cell_type": "markdown",
   "metadata": {},
   "source": [
    "### Create Convolutional Model\n",
    "Implement the function `conv_net` to create a convolutional neural network model. The function takes in a batch of images, `x`, and outputs logits.  Use the layers you created above to create this model:\n",
    "\n",
    "* Apply 1, 2, or 3 Convolution and Max Pool layers\n",
    "* Apply a Flatten Layer\n",
    "* Apply 1, 2, or 3 Fully Connected Layers\n",
    "* Apply an Output Layer\n",
    "* Return the output\n",
    "* Apply [TensorFlow's Dropout](https://www.tensorflow.org/api_docs/python/tf/nn/dropout) to one or more layers in the model using `keep_prob`. "
   ]
  },
  {
   "cell_type": "code",
   "execution_count": 20,
   "metadata": {},
   "outputs": [
    {
     "name": "stdout",
     "output_type": "stream",
     "text": [
      "Neural Network Built!\n"
     ]
    }
   ],
   "source": [
    "def conv_net(x, keep_prob):\n",
    "    \"\"\"\n",
    "    Create a convolutional neural network model\n",
    "    : x: Placeholder tensor that holds image data.\n",
    "    : keep_prob: Placeholder tensor that hold dropout keep probability.\n",
    "    : return: Tensor that represents logits\n",
    "    \"\"\"\n",
    "    # TODO: Apply 1, 2, or 3 Convolution and Max Pool layers\n",
    "    #    Play around with different number of outputs, kernel size and stride\n",
    "    # Function Definition from Above:\n",
    "    #    conv2d_maxpool(x_tensor, conv_num_outputs, conv_ksize, conv_strides, pool_ksize, pool_strides)\n",
    "    #    avgpool(x_tensor, pool_ksize, pool_strides)\n",
    "    #    conv2d_nopool(x_tensor, conv_num_outputs, conv_ksize, conv_strides)\n",
    "    \n",
    "    #Conv Layers\n",
    "    conv_layer0 = conv2d_nopool(x, 64, (3, 3), (1, 1))\n",
    "    conv_layer1 = conv2d_nopool(conv_layer0, 64, (3, 3), (1, 1))\n",
    "    conv_layer2 = conv2d_maxpool(conv_layer1, 64, (3, 3), (1, 1), (2, 2), (1, 1))\n",
    "    conv_layer3 = conv2d_nopool(conv_layer2, 64, (3, 3), (1, 1))\n",
    "    conv_layer4 = conv2d_nopool(conv_layer3, 64, (3, 3), (1, 1))\n",
    "    conv_layer5 = conv2d_maxpool(conv_layer4, 64, (3, 3), (1, 1), (2, 2), (1, 1))\n",
    "    \n",
    "    #Inception Module Layers\n",
    "    #to be implemented later\n",
    "    \n",
    "    \n",
    "    # TODO: Apply a Flatten Layer\n",
    "    # Function Definition from Above:\n",
    "    #   flatten(x_tensor)\n",
    "    # TODO: Apply 1, 2, or 3 Fully Connected Layers\n",
    "    #    Play around with different number of outputs\n",
    "    # Function Definition from Above:\n",
    "    #   fully_conn(x_tensor, num_outputs)\n",
    "    \n",
    "    #Fully Connected Layers\n",
    "    flatten_layer = flatten(conv_layer5)\n",
    "    connected_layer0 = fully_conn(flatten_layer, 64)\n",
    "    dropout_layer0 = tf.nn.dropout(connected_layer0, keep_prob)\n",
    "    connected_layer1 = fully_conn(dropout_layer0, 32)\n",
    "    #dropout_layer1 = tf.nn.dropout(connected_layer1, keep_prob)\n",
    "    #connected_layer2 = fully_conn(dropout_layer1, 16)\n",
    "    \n",
    "    \n",
    "    # TODO: Apply an Output Layer\n",
    "    #    Set this to the number of classes\n",
    "    # Function Definition from Above:\n",
    "    #   output(x_tensor, num_outputs)\n",
    "    \n",
    "    #Output Layer\n",
    "    output_layer = output(connected_layer1, 10)\n",
    "    \n",
    "    \n",
    "    # TODO: return output\n",
    "    return output_layer\n",
    "\n",
    "\n",
    "\"\"\"\n",
    "DON'T MODIFY ANYTHING IN THIS CELL THAT IS BELOW THIS LINE\n",
    "\"\"\"\n",
    "\n",
    "##############################\n",
    "## Build the Neural Network ##\n",
    "##############################\n",
    "\n",
    "# Remove previous weights, bias, inputs, etc..\n",
    "tf.reset_default_graph()\n",
    "\n",
    "# Inputs\n",
    "x = neural_net_image_input((32, 32, 3))\n",
    "y = neural_net_label_input(10)\n",
    "keep_prob = neural_net_keep_prob_input()\n",
    "\n",
    "# Model\n",
    "logits = conv_net(x, keep_prob)\n",
    "\n",
    "# Name logits Tensor, so that is can be loaded from disk after training\n",
    "logits = tf.identity(logits, name='logits')\n",
    "\n",
    "# Loss and Optimizer\n",
    "cost = tf.reduce_mean(tf.nn.softmax_cross_entropy_with_logits(logits=logits, labels=y))\n",
    "optimizer = tf.train.AdamOptimizer().minimize(cost)\n",
    "\n",
    "# Accuracy\n",
    "correct_pred = tf.equal(tf.argmax(logits, 1), tf.argmax(y, 1))\n",
    "accuracy = tf.reduce_mean(tf.cast(correct_pred, tf.float32), name='accuracy')\n",
    "\n",
    "tests.test_conv_net(conv_net)"
   ]
  },
  {
   "cell_type": "markdown",
   "metadata": {},
   "source": [
    "## Train the Neural Network\n",
    "### Single Optimization\n",
    "Implement the function `train_neural_network` to do a single optimization.  The optimization should use `optimizer` to optimize in `session` with a `feed_dict` of the following:\n",
    "* `x` for image input\n",
    "* `y` for labels\n",
    "* `keep_prob` for keep probability for dropout\n",
    "\n",
    "This function will be called for each batch, so `tf.global_variables_initializer()` has already been called.\n",
    "\n",
    "Note: Nothing needs to be returned. This function is only optimizing the neural network."
   ]
  },
  {
   "cell_type": "code",
   "execution_count": 10,
   "metadata": {},
   "outputs": [
    {
     "name": "stdout",
     "output_type": "stream",
     "text": [
      "Tests Passed\n"
     ]
    }
   ],
   "source": [
    "def train_neural_network(session, optimizer, keep_probability, feature_batch, label_batch):\n",
    "    \"\"\"\n",
    "    Optimize the session on a batch of images and labels\n",
    "    : session: Current TensorFlow session\n",
    "    : optimizer: TensorFlow optimizer function\n",
    "    : keep_probability: keep probability\n",
    "    : feature_batch: Batch of Numpy image data\n",
    "    : label_batch: Batch of Numpy label data\n",
    "    \"\"\"\n",
    "    # TODO: Implement Function\n",
    "    session.run(optimizer, feed_dict={x:feature_batch, y:label_batch, keep_prob:keep_probability})\n",
    "    pass\n",
    "\n",
    "\n",
    "\"\"\"\n",
    "DON'T MODIFY ANYTHING IN THIS CELL THAT IS BELOW THIS LINE\n",
    "\"\"\"\n",
    "tests.test_train_nn(train_neural_network)"
   ]
  },
  {
   "cell_type": "markdown",
   "metadata": {},
   "source": [
    "### Show Stats\n",
    "Implement the function `print_stats` to print loss and validation accuracy.  Use the global variables `valid_features` and `valid_labels` to calculate validation accuracy.  Use a keep probability of `1.0` to calculate the loss and validation accuracy."
   ]
  },
  {
   "cell_type": "code",
   "execution_count": 11,
   "metadata": {
    "collapsed": true
   },
   "outputs": [],
   "source": [
    "def print_stats(session, feature_batch, label_batch, cost, accuracy):\n",
    "    \"\"\"\n",
    "    Print information about loss and validation accuracy\n",
    "    : session: Current TensorFlow session\n",
    "    : feature_batch: Batch of Numpy image data\n",
    "    : label_batch: Batch of Numpy label data\n",
    "    : cost: TensorFlow cost function\n",
    "    : accuracy: TensorFlow accuracy function\n",
    "    \"\"\"\n",
    "    # TODO: Implement Function\n",
    "    loss = session.run(cost, feed_dict={x:feature_batch, y:label_batch, keep_prob:1.})\n",
    "    valid_acc = session.run(accuracy, feed_dict={x:valid_features, y:valid_labels, keep_prob:1.})\n",
    "    print('Loss: {:>10.4f} Validation Accuracy: {:.6f}'.format(loss, valid_acc))\n",
    "    pass"
   ]
  },
  {
   "cell_type": "markdown",
   "metadata": {},
   "source": [
    "### Hyperparameters\n",
    "Tune the following parameters:\n",
    "* Set `epochs` to the number of iterations until the network stops learning or start overfitting\n",
    "* Set `batch_size` to the highest number that your machine has memory for.  Most people set them to common sizes of memory:\n",
    " * 64\n",
    " * 128\n",
    " * 256\n",
    " * ...\n",
    "* Set `keep_probability` to the probability of keeping a node using dropout"
   ]
  },
  {
   "cell_type": "code",
   "execution_count": 12,
   "metadata": {
    "collapsed": true
   },
   "outputs": [],
   "source": [
    "# TODO: Tune Parameters\n",
    "epochs = 50\n",
    "batch_size = 2048\n",
    "keep_probability = 0.75"
   ]
  },
  {
   "cell_type": "markdown",
   "metadata": {},
   "source": [
    "### Train on a Single CIFAR-10 Batch\n",
    "Instead of training the neural network on all the CIFAR-10 batches of data, let's use a single batch. This should save time while you iterate on the model to get a better accuracy.  Once the final validation accuracy is 50% or greater, run the model on all the data in the next section."
   ]
  },
  {
   "cell_type": "code",
   "execution_count": 17,
   "metadata": {},
   "outputs": [
    {
     "name": "stdout",
     "output_type": "stream",
     "text": [
      "Checking the Training on a Single Batch...\n",
      "Epoch  1, CIFAR-10 Batch 1:  Loss:     2.4541 Validation Accuracy: 0.094200\n",
      "Epoch  2, CIFAR-10 Batch 1:  Loss:     2.2943 Validation Accuracy: 0.134200\n",
      "Epoch  3, CIFAR-10 Batch 1:  Loss:     2.2747 Validation Accuracy: 0.144800\n",
      "Epoch  4, CIFAR-10 Batch 1:  Loss:     2.2080 Validation Accuracy: 0.197200\n",
      "Epoch  5, CIFAR-10 Batch 1:  Loss:     2.1674 Validation Accuracy: 0.202000\n",
      "Epoch  6, CIFAR-10 Batch 1:  Loss:     2.1190 Validation Accuracy: 0.224000\n",
      "Epoch  7, CIFAR-10 Batch 1:  Loss:     2.0609 Validation Accuracy: 0.252200\n",
      "Epoch  8, CIFAR-10 Batch 1:  Loss:     1.9825 Validation Accuracy: 0.299800\n",
      "Epoch  9, CIFAR-10 Batch 1:  Loss:     1.9127 Validation Accuracy: 0.295200\n",
      "Epoch 10, CIFAR-10 Batch 1:  Loss:     1.8178 Validation Accuracy: 0.315600\n",
      "Epoch 11, CIFAR-10 Batch 1:  Loss:     1.7334 Validation Accuracy: 0.357800\n",
      "Epoch 12, CIFAR-10 Batch 1:  Loss:     1.6692 Validation Accuracy: 0.368600\n",
      "Epoch 13, CIFAR-10 Batch 1:  Loss:     1.6566 Validation Accuracy: 0.354400\n",
      "Epoch 14, CIFAR-10 Batch 1:  Loss:     1.5974 Validation Accuracy: 0.392200\n",
      "Epoch 15, CIFAR-10 Batch 1:  Loss:     1.5428 Validation Accuracy: 0.376800\n",
      "Epoch 16, CIFAR-10 Batch 1:  Loss:     1.4775 Validation Accuracy: 0.409200\n",
      "Epoch 17, CIFAR-10 Batch 1:  Loss:     1.4321 Validation Accuracy: 0.426400\n",
      "Epoch 18, CIFAR-10 Batch 1:  Loss:     1.4028 Validation Accuracy: 0.436000\n",
      "Epoch 19, CIFAR-10 Batch 1:  Loss:     1.4214 Validation Accuracy: 0.417200\n",
      "Epoch 20, CIFAR-10 Batch 1:  Loss:     1.3770 Validation Accuracy: 0.424400\n",
      "Epoch 21, CIFAR-10 Batch 1:  Loss:     1.3415 Validation Accuracy: 0.443400\n",
      "Epoch 22, CIFAR-10 Batch 1:  Loss:     1.3151 Validation Accuracy: 0.450400\n",
      "Epoch 23, CIFAR-10 Batch 1:  Loss:     1.2539 Validation Accuracy: 0.467000\n",
      "Epoch 24, CIFAR-10 Batch 1:  Loss:     1.2321 Validation Accuracy: 0.476000\n",
      "Epoch 25, CIFAR-10 Batch 1:  Loss:     1.3136 Validation Accuracy: 0.459200\n",
      "Epoch 26, CIFAR-10 Batch 1:  Loss:     1.1883 Validation Accuracy: 0.482600\n",
      "Epoch 27, CIFAR-10 Batch 1:  Loss:     1.1428 Validation Accuracy: 0.483200\n",
      "Epoch 28, CIFAR-10 Batch 1:  Loss:     1.1282 Validation Accuracy: 0.492400\n",
      "Epoch 29, CIFAR-10 Batch 1:  Loss:     1.0788 Validation Accuracy: 0.489600\n",
      "Epoch 30, CIFAR-10 Batch 1:  Loss:     1.0639 Validation Accuracy: 0.493800\n",
      "Epoch 31, CIFAR-10 Batch 1:  Loss:     1.0338 Validation Accuracy: 0.502800\n",
      "Epoch 32, CIFAR-10 Batch 1:  Loss:     1.0124 Validation Accuracy: 0.500600\n",
      "Epoch 33, CIFAR-10 Batch 1:  Loss:     1.0726 Validation Accuracy: 0.484400\n",
      "Epoch 34, CIFAR-10 Batch 1:  Loss:     1.0292 Validation Accuracy: 0.498000\n",
      "Epoch 35, CIFAR-10 Batch 1:  Loss:     0.9064 Validation Accuracy: 0.510600\n",
      "Epoch 36, CIFAR-10 Batch 1:  Loss:     0.8719 Validation Accuracy: 0.516200\n",
      "Epoch 37, CIFAR-10 Batch 1:  Loss:     0.8258 Validation Accuracy: 0.525000\n",
      "Epoch 38, CIFAR-10 Batch 1:  Loss:     0.8268 Validation Accuracy: 0.531800\n",
      "Epoch 39, CIFAR-10 Batch 1:  Loss:     0.7666 Validation Accuracy: 0.531600\n",
      "Epoch 40, CIFAR-10 Batch 1:  Loss:     0.7559 Validation Accuracy: 0.527200\n",
      "Epoch 41, CIFAR-10 Batch 1:  Loss:     0.7722 Validation Accuracy: 0.522600\n",
      "Epoch 42, CIFAR-10 Batch 1:  Loss:     0.6910 Validation Accuracy: 0.540200\n",
      "Epoch 43, CIFAR-10 Batch 1:  Loss:     0.6848 Validation Accuracy: 0.541400\n",
      "Epoch 44, CIFAR-10 Batch 1:  Loss:     0.6375 Validation Accuracy: 0.537200\n",
      "Epoch 45, CIFAR-10 Batch 1:  Loss:     0.6319 Validation Accuracy: 0.543800\n",
      "Epoch 46, CIFAR-10 Batch 1:  Loss:     0.5968 Validation Accuracy: 0.542400\n",
      "Epoch 47, CIFAR-10 Batch 1:  Loss:     0.5628 Validation Accuracy: 0.553400\n",
      "Epoch 48, CIFAR-10 Batch 1:  Loss:     0.6152 Validation Accuracy: 0.532000\n",
      "Epoch 49, CIFAR-10 Batch 1:  Loss:     0.5382 Validation Accuracy: 0.544000\n",
      "Epoch 50, CIFAR-10 Batch 1:  Loss:     0.6518 Validation Accuracy: 0.527400\n"
     ]
    }
   ],
   "source": [
    "\"\"\"\n",
    "DON'T MODIFY ANYTHING IN THIS CELL\n",
    "\"\"\"\n",
    "print('Checking the Training on a Single Batch...')\n",
    "with tf.Session() as sess:\n",
    "    # Initializing the variables\n",
    "    sess.run(tf.global_variables_initializer())\n",
    "    \n",
    "    # Training cycle\n",
    "    for epoch in range(epochs):\n",
    "        batch_i = 1\n",
    "        for batch_features, batch_labels in helper.load_preprocess_training_batch(batch_i, batch_size):\n",
    "            train_neural_network(sess, optimizer, keep_probability, batch_features, batch_labels)\n",
    "        print('Epoch {:>2}, CIFAR-10 Batch {}:  '.format(epoch + 1, batch_i), end='')\n",
    "        print_stats(sess, batch_features, batch_labels, cost, accuracy)"
   ]
  },
  {
   "cell_type": "markdown",
   "metadata": {},
   "source": [
    "### Fully Train the Model\n",
    "Now that you got a good accuracy with a single CIFAR-10 batch, try it with all five batches."
   ]
  },
  {
   "cell_type": "code",
   "execution_count": 18,
   "metadata": {},
   "outputs": [
    {
     "name": "stdout",
     "output_type": "stream",
     "text": [
      "Training...\n",
      "Epoch  1, CIFAR-10 Batch 1:  Loss:     2.3141 Validation Accuracy: 0.109800\n",
      "Epoch  1, CIFAR-10 Batch 2:  Loss:     2.2856 Validation Accuracy: 0.112200\n",
      "Epoch  1, CIFAR-10 Batch 3:  Loss:     2.2732 Validation Accuracy: 0.119600\n",
      "Epoch  1, CIFAR-10 Batch 4:  Loss:     2.2547 Validation Accuracy: 0.117400\n",
      "Epoch  1, CIFAR-10 Batch 5:  Loss:     2.2292 Validation Accuracy: 0.124800\n",
      "Epoch  2, CIFAR-10 Batch 1:  Loss:     2.2193 Validation Accuracy: 0.122000\n",
      "Epoch  2, CIFAR-10 Batch 2:  Loss:     2.2014 Validation Accuracy: 0.124200\n",
      "Epoch  2, CIFAR-10 Batch 3:  Loss:     2.1849 Validation Accuracy: 0.128000\n",
      "Epoch  2, CIFAR-10 Batch 4:  Loss:     2.1572 Validation Accuracy: 0.165400\n",
      "Epoch  2, CIFAR-10 Batch 5:  Loss:     2.1459 Validation Accuracy: 0.187600\n",
      "Epoch  3, CIFAR-10 Batch 1:  Loss:     2.1233 Validation Accuracy: 0.236000\n",
      "Epoch  3, CIFAR-10 Batch 2:  Loss:     2.1112 Validation Accuracy: 0.250400\n",
      "Epoch  3, CIFAR-10 Batch 3:  Loss:     2.0966 Validation Accuracy: 0.242400\n",
      "Epoch  3, CIFAR-10 Batch 4:  Loss:     2.0135 Validation Accuracy: 0.257000\n",
      "Epoch  3, CIFAR-10 Batch 5:  Loss:     2.0270 Validation Accuracy: 0.265200\n",
      "Epoch  4, CIFAR-10 Batch 1:  Loss:     2.0350 Validation Accuracy: 0.251600\n",
      "Epoch  4, CIFAR-10 Batch 2:  Loss:     1.9959 Validation Accuracy: 0.260400\n",
      "Epoch  4, CIFAR-10 Batch 3:  Loss:     1.9357 Validation Accuracy: 0.256200\n",
      "Epoch  4, CIFAR-10 Batch 4:  Loss:     1.9282 Validation Accuracy: 0.239400\n",
      "Epoch  4, CIFAR-10 Batch 5:  Loss:     1.9665 Validation Accuracy: 0.228000\n",
      "Epoch  5, CIFAR-10 Batch 1:  Loss:     1.9528 Validation Accuracy: 0.264600\n",
      "Epoch  5, CIFAR-10 Batch 2:  Loss:     1.9115 Validation Accuracy: 0.257400\n",
      "Epoch  5, CIFAR-10 Batch 3:  Loss:     1.8520 Validation Accuracy: 0.269000\n",
      "Epoch  5, CIFAR-10 Batch 4:  Loss:     1.8388 Validation Accuracy: 0.267800\n",
      "Epoch  5, CIFAR-10 Batch 5:  Loss:     1.8348 Validation Accuracy: 0.275600\n",
      "Epoch  6, CIFAR-10 Batch 1:  Loss:     1.8882 Validation Accuracy: 0.253800\n",
      "Epoch  6, CIFAR-10 Batch 2:  Loss:     1.8343 Validation Accuracy: 0.270800\n",
      "Epoch  6, CIFAR-10 Batch 3:  Loss:     1.7825 Validation Accuracy: 0.285200\n",
      "Epoch  6, CIFAR-10 Batch 4:  Loss:     1.7603 Validation Accuracy: 0.293400\n",
      "Epoch  6, CIFAR-10 Batch 5:  Loss:     1.7644 Validation Accuracy: 0.291600\n",
      "Epoch  7, CIFAR-10 Batch 1:  Loss:     1.7874 Validation Accuracy: 0.294400\n",
      "Epoch  7, CIFAR-10 Batch 2:  Loss:     1.7648 Validation Accuracy: 0.293400\n",
      "Epoch  7, CIFAR-10 Batch 3:  Loss:     1.6918 Validation Accuracy: 0.309800\n",
      "Epoch  7, CIFAR-10 Batch 4:  Loss:     1.7026 Validation Accuracy: 0.316600\n",
      "Epoch  7, CIFAR-10 Batch 5:  Loss:     1.6833 Validation Accuracy: 0.325400\n",
      "Epoch  8, CIFAR-10 Batch 1:  Loss:     1.7104 Validation Accuracy: 0.342600\n",
      "Epoch  8, CIFAR-10 Batch 2:  Loss:     1.6744 Validation Accuracy: 0.352600\n",
      "Epoch  8, CIFAR-10 Batch 3:  Loss:     1.5878 Validation Accuracy: 0.359400\n",
      "Epoch  8, CIFAR-10 Batch 4:  Loss:     1.6064 Validation Accuracy: 0.349000\n",
      "Epoch  8, CIFAR-10 Batch 5:  Loss:     1.6158 Validation Accuracy: 0.375600\n",
      "Epoch  9, CIFAR-10 Batch 1:  Loss:     1.6029 Validation Accuracy: 0.388000\n",
      "Epoch  9, CIFAR-10 Batch 2:  Loss:     1.5791 Validation Accuracy: 0.388800\n",
      "Epoch  9, CIFAR-10 Batch 3:  Loss:     1.5439 Validation Accuracy: 0.397400\n",
      "Epoch  9, CIFAR-10 Batch 4:  Loss:     1.5263 Validation Accuracy: 0.404000\n",
      "Epoch  9, CIFAR-10 Batch 5:  Loss:     1.5097 Validation Accuracy: 0.422400\n",
      "Epoch 10, CIFAR-10 Batch 1:  Loss:     1.5707 Validation Accuracy: 0.396800\n",
      "Epoch 10, CIFAR-10 Batch 2:  Loss:     1.5718 Validation Accuracy: 0.405600\n",
      "Epoch 10, CIFAR-10 Batch 3:  Loss:     1.4460 Validation Accuracy: 0.426400\n",
      "Epoch 10, CIFAR-10 Batch 4:  Loss:     1.5151 Validation Accuracy: 0.425600\n",
      "Epoch 10, CIFAR-10 Batch 5:  Loss:     1.4039 Validation Accuracy: 0.446200\n",
      "Epoch 11, CIFAR-10 Batch 1:  Loss:     1.5121 Validation Accuracy: 0.446200\n",
      "Epoch 11, CIFAR-10 Batch 2:  Loss:     1.4397 Validation Accuracy: 0.462800\n",
      "Epoch 11, CIFAR-10 Batch 3:  Loss:     1.5081 Validation Accuracy: 0.389200\n",
      "Epoch 11, CIFAR-10 Batch 4:  Loss:     1.4393 Validation Accuracy: 0.428400\n",
      "Epoch 11, CIFAR-10 Batch 5:  Loss:     1.4087 Validation Accuracy: 0.458400\n",
      "Epoch 12, CIFAR-10 Batch 1:  Loss:     1.4138 Validation Accuracy: 0.460800\n",
      "Epoch 12, CIFAR-10 Batch 2:  Loss:     1.4304 Validation Accuracy: 0.483600\n",
      "Epoch 12, CIFAR-10 Batch 3:  Loss:     1.3514 Validation Accuracy: 0.477200\n",
      "Epoch 12, CIFAR-10 Batch 4:  Loss:     1.3613 Validation Accuracy: 0.487600\n",
      "Epoch 12, CIFAR-10 Batch 5:  Loss:     1.3100 Validation Accuracy: 0.487800\n",
      "Epoch 13, CIFAR-10 Batch 1:  Loss:     1.3583 Validation Accuracy: 0.493600\n",
      "Epoch 13, CIFAR-10 Batch 2:  Loss:     1.3215 Validation Accuracy: 0.507400\n",
      "Epoch 13, CIFAR-10 Batch 3:  Loss:     1.2937 Validation Accuracy: 0.496800\n",
      "Epoch 13, CIFAR-10 Batch 4:  Loss:     1.3161 Validation Accuracy: 0.507200\n",
      "Epoch 13, CIFAR-10 Batch 5:  Loss:     1.2543 Validation Accuracy: 0.509400\n",
      "Epoch 14, CIFAR-10 Batch 1:  Loss:     1.4078 Validation Accuracy: 0.507600\n",
      "Epoch 14, CIFAR-10 Batch 2:  Loss:     1.3031 Validation Accuracy: 0.503000\n",
      "Epoch 14, CIFAR-10 Batch 3:  Loss:     1.2237 Validation Accuracy: 0.503200\n",
      "Epoch 14, CIFAR-10 Batch 4:  Loss:     1.2591 Validation Accuracy: 0.520600\n",
      "Epoch 14, CIFAR-10 Batch 5:  Loss:     1.1811 Validation Accuracy: 0.531600\n",
      "Epoch 15, CIFAR-10 Batch 1:  Loss:     1.3127 Validation Accuracy: 0.510200\n",
      "Epoch 15, CIFAR-10 Batch 2:  Loss:     1.2458 Validation Accuracy: 0.528200\n",
      "Epoch 15, CIFAR-10 Batch 3:  Loss:     1.1792 Validation Accuracy: 0.527200\n",
      "Epoch 15, CIFAR-10 Batch 4:  Loss:     1.1798 Validation Accuracy: 0.544400\n",
      "Epoch 15, CIFAR-10 Batch 5:  Loss:     1.1857 Validation Accuracy: 0.531400\n",
      "Epoch 16, CIFAR-10 Batch 1:  Loss:     1.2244 Validation Accuracy: 0.534400\n",
      "Epoch 16, CIFAR-10 Batch 2:  Loss:     1.2057 Validation Accuracy: 0.545000\n",
      "Epoch 16, CIFAR-10 Batch 3:  Loss:     1.1139 Validation Accuracy: 0.546200\n",
      "Epoch 16, CIFAR-10 Batch 4:  Loss:     1.1509 Validation Accuracy: 0.558000\n",
      "Epoch 16, CIFAR-10 Batch 5:  Loss:     1.0730 Validation Accuracy: 0.558400\n",
      "Epoch 17, CIFAR-10 Batch 1:  Loss:     1.1617 Validation Accuracy: 0.563400\n",
      "Epoch 17, CIFAR-10 Batch 2:  Loss:     1.1305 Validation Accuracy: 0.564200\n",
      "Epoch 17, CIFAR-10 Batch 3:  Loss:     1.0427 Validation Accuracy: 0.572600\n",
      "Epoch 17, CIFAR-10 Batch 4:  Loss:     1.0798 Validation Accuracy: 0.569800\n",
      "Epoch 17, CIFAR-10 Batch 5:  Loss:     1.0769 Validation Accuracy: 0.553400\n",
      "Epoch 18, CIFAR-10 Batch 1:  Loss:     1.1215 Validation Accuracy: 0.572800\n",
      "Epoch 18, CIFAR-10 Batch 2:  Loss:     1.1172 Validation Accuracy: 0.570600\n",
      "Epoch 18, CIFAR-10 Batch 3:  Loss:     1.0253 Validation Accuracy: 0.569200\n",
      "Epoch 18, CIFAR-10 Batch 4:  Loss:     1.0776 Validation Accuracy: 0.566200\n",
      "Epoch 18, CIFAR-10 Batch 5:  Loss:     1.0345 Validation Accuracy: 0.570400\n",
      "Epoch 19, CIFAR-10 Batch 1:  Loss:     1.1432 Validation Accuracy: 0.559800\n",
      "Epoch 19, CIFAR-10 Batch 2:  Loss:     1.1420 Validation Accuracy: 0.557800\n",
      "Epoch 19, CIFAR-10 Batch 3:  Loss:     0.9975 Validation Accuracy: 0.578000\n",
      "Epoch 19, CIFAR-10 Batch 4:  Loss:     1.0373 Validation Accuracy: 0.586400\n",
      "Epoch 19, CIFAR-10 Batch 5:  Loss:     0.9870 Validation Accuracy: 0.583800\n",
      "Epoch 20, CIFAR-10 Batch 1:  Loss:     1.0825 Validation Accuracy: 0.559400\n",
      "Epoch 20, CIFAR-10 Batch 2:  Loss:     1.0794 Validation Accuracy: 0.559600\n",
      "Epoch 20, CIFAR-10 Batch 3:  Loss:     1.0472 Validation Accuracy: 0.554800\n",
      "Epoch 20, CIFAR-10 Batch 4:  Loss:     1.0668 Validation Accuracy: 0.569400\n",
      "Epoch 20, CIFAR-10 Batch 5:  Loss:     1.0028 Validation Accuracy: 0.579400\n",
      "Epoch 21, CIFAR-10 Batch 1:  Loss:     1.0213 Validation Accuracy: 0.586800\n",
      "Epoch 21, CIFAR-10 Batch 2:  Loss:     1.0061 Validation Accuracy: 0.598600\n",
      "Epoch 21, CIFAR-10 Batch 3:  Loss:     0.9515 Validation Accuracy: 0.603800\n",
      "Epoch 21, CIFAR-10 Batch 4:  Loss:     0.9494 Validation Accuracy: 0.602200\n",
      "Epoch 21, CIFAR-10 Batch 5:  Loss:     0.9061 Validation Accuracy: 0.609000\n",
      "Epoch 22, CIFAR-10 Batch 1:  Loss:     0.9668 Validation Accuracy: 0.606200\n",
      "Epoch 22, CIFAR-10 Batch 2:  Loss:     0.9983 Validation Accuracy: 0.598000\n",
      "Epoch 22, CIFAR-10 Batch 3:  Loss:     0.8689 Validation Accuracy: 0.610800\n"
     ]
    },
    {
     "name": "stdout",
     "output_type": "stream",
     "text": [
      "Epoch 22, CIFAR-10 Batch 4:  Loss:     0.9399 Validation Accuracy: 0.605800\n",
      "Epoch 22, CIFAR-10 Batch 5:  Loss:     0.9027 Validation Accuracy: 0.611600\n",
      "Epoch 23, CIFAR-10 Batch 1:  Loss:     0.9441 Validation Accuracy: 0.603200\n",
      "Epoch 23, CIFAR-10 Batch 2:  Loss:     0.9519 Validation Accuracy: 0.598600\n",
      "Epoch 23, CIFAR-10 Batch 3:  Loss:     0.8554 Validation Accuracy: 0.607600\n",
      "Epoch 23, CIFAR-10 Batch 4:  Loss:     0.9314 Validation Accuracy: 0.602200\n",
      "Epoch 23, CIFAR-10 Batch 5:  Loss:     0.8400 Validation Accuracy: 0.622600\n",
      "Epoch 24, CIFAR-10 Batch 1:  Loss:     0.9166 Validation Accuracy: 0.597200\n",
      "Epoch 24, CIFAR-10 Batch 2:  Loss:     0.9900 Validation Accuracy: 0.578600\n",
      "Epoch 24, CIFAR-10 Batch 3:  Loss:     0.8820 Validation Accuracy: 0.582000\n",
      "Epoch 24, CIFAR-10 Batch 4:  Loss:     0.8626 Validation Accuracy: 0.619400\n",
      "Epoch 24, CIFAR-10 Batch 5:  Loss:     0.8362 Validation Accuracy: 0.618200\n",
      "Epoch 25, CIFAR-10 Batch 1:  Loss:     0.8758 Validation Accuracy: 0.620000\n",
      "Epoch 25, CIFAR-10 Batch 2:  Loss:     0.8653 Validation Accuracy: 0.623000\n",
      "Epoch 25, CIFAR-10 Batch 3:  Loss:     0.8413 Validation Accuracy: 0.612000\n",
      "Epoch 25, CIFAR-10 Batch 4:  Loss:     0.8402 Validation Accuracy: 0.621400\n",
      "Epoch 25, CIFAR-10 Batch 5:  Loss:     0.8042 Validation Accuracy: 0.626400\n",
      "Epoch 26, CIFAR-10 Batch 1:  Loss:     0.8344 Validation Accuracy: 0.619400\n",
      "Epoch 26, CIFAR-10 Batch 2:  Loss:     0.8568 Validation Accuracy: 0.609000\n",
      "Epoch 26, CIFAR-10 Batch 3:  Loss:     0.8075 Validation Accuracy: 0.616400\n",
      "Epoch 26, CIFAR-10 Batch 4:  Loss:     0.7952 Validation Accuracy: 0.631800\n",
      "Epoch 26, CIFAR-10 Batch 5:  Loss:     0.7712 Validation Accuracy: 0.621800\n",
      "Epoch 27, CIFAR-10 Batch 1:  Loss:     0.8396 Validation Accuracy: 0.618400\n",
      "Epoch 27, CIFAR-10 Batch 2:  Loss:     0.8938 Validation Accuracy: 0.577800\n",
      "Epoch 27, CIFAR-10 Batch 3:  Loss:     0.7938 Validation Accuracy: 0.624200\n",
      "Epoch 27, CIFAR-10 Batch 4:  Loss:     0.7672 Validation Accuracy: 0.634400\n",
      "Epoch 27, CIFAR-10 Batch 5:  Loss:     0.7319 Validation Accuracy: 0.628400\n",
      "Epoch 28, CIFAR-10 Batch 1:  Loss:     0.7902 Validation Accuracy: 0.629600\n",
      "Epoch 28, CIFAR-10 Batch 2:  Loss:     0.7788 Validation Accuracy: 0.622600\n",
      "Epoch 28, CIFAR-10 Batch 3:  Loss:     0.7473 Validation Accuracy: 0.629800\n",
      "Epoch 28, CIFAR-10 Batch 4:  Loss:     0.7410 Validation Accuracy: 0.632400\n",
      "Epoch 28, CIFAR-10 Batch 5:  Loss:     0.7107 Validation Accuracy: 0.647600\n",
      "Epoch 29, CIFAR-10 Batch 1:  Loss:     0.7974 Validation Accuracy: 0.617800\n",
      "Epoch 29, CIFAR-10 Batch 2:  Loss:     0.7347 Validation Accuracy: 0.634600\n",
      "Epoch 29, CIFAR-10 Batch 3:  Loss:     0.7291 Validation Accuracy: 0.641800\n",
      "Epoch 29, CIFAR-10 Batch 4:  Loss:     0.7192 Validation Accuracy: 0.643600\n",
      "Epoch 29, CIFAR-10 Batch 5:  Loss:     0.6844 Validation Accuracy: 0.636800\n",
      "Epoch 30, CIFAR-10 Batch 1:  Loss:     0.7254 Validation Accuracy: 0.641200\n",
      "Epoch 30, CIFAR-10 Batch 2:  Loss:     0.7512 Validation Accuracy: 0.611800\n",
      "Epoch 30, CIFAR-10 Batch 3:  Loss:     0.7023 Validation Accuracy: 0.648600\n",
      "Epoch 30, CIFAR-10 Batch 4:  Loss:     0.6780 Validation Accuracy: 0.645000\n",
      "Epoch 30, CIFAR-10 Batch 5:  Loss:     0.6726 Validation Accuracy: 0.635800\n",
      "Epoch 31, CIFAR-10 Batch 1:  Loss:     0.7607 Validation Accuracy: 0.615000\n",
      "Epoch 31, CIFAR-10 Batch 2:  Loss:     0.7180 Validation Accuracy: 0.630200\n",
      "Epoch 31, CIFAR-10 Batch 3:  Loss:     0.6893 Validation Accuracy: 0.636600\n",
      "Epoch 31, CIFAR-10 Batch 4:  Loss:     0.6304 Validation Accuracy: 0.646400\n",
      "Epoch 31, CIFAR-10 Batch 5:  Loss:     0.6319 Validation Accuracy: 0.643400\n",
      "Epoch 32, CIFAR-10 Batch 1:  Loss:     0.7304 Validation Accuracy: 0.619000\n",
      "Epoch 32, CIFAR-10 Batch 2:  Loss:     0.7259 Validation Accuracy: 0.611000\n",
      "Epoch 32, CIFAR-10 Batch 3:  Loss:     0.6861 Validation Accuracy: 0.622400\n",
      "Epoch 32, CIFAR-10 Batch 4:  Loss:     0.6431 Validation Accuracy: 0.651800\n",
      "Epoch 32, CIFAR-10 Batch 5:  Loss:     0.6391 Validation Accuracy: 0.630000\n",
      "Epoch 33, CIFAR-10 Batch 1:  Loss:     0.6774 Validation Accuracy: 0.637800\n",
      "Epoch 33, CIFAR-10 Batch 2:  Loss:     0.6751 Validation Accuracy: 0.633400\n",
      "Epoch 33, CIFAR-10 Batch 3:  Loss:     0.6109 Validation Accuracy: 0.641800\n",
      "Epoch 33, CIFAR-10 Batch 4:  Loss:     0.5987 Validation Accuracy: 0.657800\n",
      "Epoch 33, CIFAR-10 Batch 5:  Loss:     0.5903 Validation Accuracy: 0.666000\n",
      "Epoch 34, CIFAR-10 Batch 1:  Loss:     0.6440 Validation Accuracy: 0.644800\n",
      "Epoch 34, CIFAR-10 Batch 2:  Loss:     0.6401 Validation Accuracy: 0.658000\n",
      "Epoch 34, CIFAR-10 Batch 3:  Loss:     0.5933 Validation Accuracy: 0.663400\n",
      "Epoch 34, CIFAR-10 Batch 4:  Loss:     0.5627 Validation Accuracy: 0.656200\n",
      "Epoch 34, CIFAR-10 Batch 5:  Loss:     0.5708 Validation Accuracy: 0.664000\n",
      "Epoch 35, CIFAR-10 Batch 1:  Loss:     0.5990 Validation Accuracy: 0.664200\n",
      "Epoch 35, CIFAR-10 Batch 2:  Loss:     0.6141 Validation Accuracy: 0.659000\n",
      "Epoch 35, CIFAR-10 Batch 3:  Loss:     0.5719 Validation Accuracy: 0.654800\n",
      "Epoch 35, CIFAR-10 Batch 4:  Loss:     0.5577 Validation Accuracy: 0.659800\n",
      "Epoch 35, CIFAR-10 Batch 5:  Loss:     0.5236 Validation Accuracy: 0.667000\n",
      "Epoch 36, CIFAR-10 Batch 1:  Loss:     0.6102 Validation Accuracy: 0.653200\n",
      "Epoch 36, CIFAR-10 Batch 2:  Loss:     0.6145 Validation Accuracy: 0.655600\n",
      "Epoch 36, CIFAR-10 Batch 3:  Loss:     0.5435 Validation Accuracy: 0.660800\n",
      "Epoch 36, CIFAR-10 Batch 4:  Loss:     0.5396 Validation Accuracy: 0.659600\n",
      "Epoch 36, CIFAR-10 Batch 5:  Loss:     0.5085 Validation Accuracy: 0.662000\n",
      "Epoch 37, CIFAR-10 Batch 1:  Loss:     0.5378 Validation Accuracy: 0.664400\n",
      "Epoch 37, CIFAR-10 Batch 2:  Loss:     0.5719 Validation Accuracy: 0.667200\n",
      "Epoch 37, CIFAR-10 Batch 3:  Loss:     0.5324 Validation Accuracy: 0.663800\n",
      "Epoch 37, CIFAR-10 Batch 4:  Loss:     0.5118 Validation Accuracy: 0.671000\n",
      "Epoch 37, CIFAR-10 Batch 5:  Loss:     0.4933 Validation Accuracy: 0.665800\n",
      "Epoch 38, CIFAR-10 Batch 1:  Loss:     0.5310 Validation Accuracy: 0.658200\n",
      "Epoch 38, CIFAR-10 Batch 2:  Loss:     0.5155 Validation Accuracy: 0.676400\n",
      "Epoch 38, CIFAR-10 Batch 3:  Loss:     0.5164 Validation Accuracy: 0.665600\n",
      "Epoch 38, CIFAR-10 Batch 4:  Loss:     0.4891 Validation Accuracy: 0.660400\n",
      "Epoch 38, CIFAR-10 Batch 5:  Loss:     0.4966 Validation Accuracy: 0.652600\n",
      "Epoch 39, CIFAR-10 Batch 1:  Loss:     0.5086 Validation Accuracy: 0.664400\n",
      "Epoch 39, CIFAR-10 Batch 2:  Loss:     0.5287 Validation Accuracy: 0.652800\n",
      "Epoch 39, CIFAR-10 Batch 3:  Loss:     0.5254 Validation Accuracy: 0.664000\n",
      "Epoch 39, CIFAR-10 Batch 4:  Loss:     0.4902 Validation Accuracy: 0.660800\n",
      "Epoch 39, CIFAR-10 Batch 5:  Loss:     0.5014 Validation Accuracy: 0.662000\n",
      "Epoch 40, CIFAR-10 Batch 1:  Loss:     0.5015 Validation Accuracy: 0.668200\n",
      "Epoch 40, CIFAR-10 Batch 2:  Loss:     0.5210 Validation Accuracy: 0.672200\n",
      "Epoch 40, CIFAR-10 Batch 3:  Loss:     0.5098 Validation Accuracy: 0.659600\n",
      "Epoch 40, CIFAR-10 Batch 4:  Loss:     0.4973 Validation Accuracy: 0.650400\n",
      "Epoch 40, CIFAR-10 Batch 5:  Loss:     0.4504 Validation Accuracy: 0.672200\n",
      "Epoch 41, CIFAR-10 Batch 1:  Loss:     0.4728 Validation Accuracy: 0.683200\n",
      "Epoch 41, CIFAR-10 Batch 2:  Loss:     0.5200 Validation Accuracy: 0.653800\n",
      "Epoch 41, CIFAR-10 Batch 3:  Loss:     0.4691 Validation Accuracy: 0.671600\n",
      "Epoch 41, CIFAR-10 Batch 4:  Loss:     0.4212 Validation Accuracy: 0.671200\n",
      "Epoch 41, CIFAR-10 Batch 5:  Loss:     0.4382 Validation Accuracy: 0.668600\n",
      "Epoch 42, CIFAR-10 Batch 1:  Loss:     0.4505 Validation Accuracy: 0.675800\n",
      "Epoch 42, CIFAR-10 Batch 2:  Loss:     0.4524 Validation Accuracy: 0.669400\n",
      "Epoch 42, CIFAR-10 Batch 3:  Loss:     0.4281 Validation Accuracy: 0.677400\n",
      "Epoch 42, CIFAR-10 Batch 4:  Loss:     0.4090 Validation Accuracy: 0.674400\n",
      "Epoch 42, CIFAR-10 Batch 5:  Loss:     0.4066 Validation Accuracy: 0.669600\n",
      "Epoch 43, CIFAR-10 Batch 1:  Loss:     0.4217 Validation Accuracy: 0.676200\n",
      "Epoch 43, CIFAR-10 Batch 2:  Loss:     0.4608 Validation Accuracy: 0.676000\n",
      "Epoch 43, CIFAR-10 Batch 3:  Loss:     0.4539 Validation Accuracy: 0.669400\n",
      "Epoch 43, CIFAR-10 Batch 4:  Loss:     0.4570 Validation Accuracy: 0.658200\n",
      "Epoch 43, CIFAR-10 Batch 5:  Loss:     0.4264 Validation Accuracy: 0.664200\n",
      "Epoch 44, CIFAR-10 Batch 1:  Loss:     0.4384 Validation Accuracy: 0.669600\n"
     ]
    },
    {
     "name": "stdout",
     "output_type": "stream",
     "text": [
      "Epoch 44, CIFAR-10 Batch 2:  Loss:     0.4552 Validation Accuracy: 0.670600\n",
      "Epoch 44, CIFAR-10 Batch 3:  Loss:     0.4304 Validation Accuracy: 0.680000\n",
      "Epoch 44, CIFAR-10 Batch 4:  Loss:     0.3980 Validation Accuracy: 0.676200\n",
      "Epoch 44, CIFAR-10 Batch 5:  Loss:     0.4244 Validation Accuracy: 0.652000\n",
      "Epoch 45, CIFAR-10 Batch 1:  Loss:     0.4226 Validation Accuracy: 0.673600\n",
      "Epoch 45, CIFAR-10 Batch 2:  Loss:     0.4095 Validation Accuracy: 0.677400\n",
      "Epoch 45, CIFAR-10 Batch 3:  Loss:     0.3689 Validation Accuracy: 0.689000\n",
      "Epoch 45, CIFAR-10 Batch 4:  Loss:     0.3752 Validation Accuracy: 0.682000\n",
      "Epoch 45, CIFAR-10 Batch 5:  Loss:     0.3367 Validation Accuracy: 0.685600\n",
      "Epoch 46, CIFAR-10 Batch 1:  Loss:     0.3760 Validation Accuracy: 0.678000\n",
      "Epoch 46, CIFAR-10 Batch 2:  Loss:     0.3920 Validation Accuracy: 0.677000\n",
      "Epoch 46, CIFAR-10 Batch 3:  Loss:     0.4014 Validation Accuracy: 0.663000\n",
      "Epoch 46, CIFAR-10 Batch 4:  Loss:     0.3915 Validation Accuracy: 0.659800\n",
      "Epoch 46, CIFAR-10 Batch 5:  Loss:     0.3806 Validation Accuracy: 0.663400\n",
      "Epoch 47, CIFAR-10 Batch 1:  Loss:     0.3446 Validation Accuracy: 0.688400\n",
      "Epoch 47, CIFAR-10 Batch 2:  Loss:     0.3894 Validation Accuracy: 0.672600\n",
      "Epoch 47, CIFAR-10 Batch 3:  Loss:     0.3759 Validation Accuracy: 0.670600\n",
      "Epoch 47, CIFAR-10 Batch 4:  Loss:     0.3322 Validation Accuracy: 0.677600\n",
      "Epoch 47, CIFAR-10 Batch 5:  Loss:     0.3727 Validation Accuracy: 0.657000\n",
      "Epoch 48, CIFAR-10 Batch 1:  Loss:     0.3457 Validation Accuracy: 0.680400\n",
      "Epoch 48, CIFAR-10 Batch 2:  Loss:     0.3809 Validation Accuracy: 0.666600\n",
      "Epoch 48, CIFAR-10 Batch 3:  Loss:     0.3582 Validation Accuracy: 0.681800\n",
      "Epoch 48, CIFAR-10 Batch 4:  Loss:     0.3429 Validation Accuracy: 0.675400\n",
      "Epoch 48, CIFAR-10 Batch 5:  Loss:     0.3506 Validation Accuracy: 0.671400\n",
      "Epoch 49, CIFAR-10 Batch 1:  Loss:     0.3662 Validation Accuracy: 0.675400\n",
      "Epoch 49, CIFAR-10 Batch 2:  Loss:     0.3745 Validation Accuracy: 0.668800\n",
      "Epoch 49, CIFAR-10 Batch 3:  Loss:     0.3761 Validation Accuracy: 0.678800\n",
      "Epoch 49, CIFAR-10 Batch 4:  Loss:     0.3885 Validation Accuracy: 0.653400\n",
      "Epoch 49, CIFAR-10 Batch 5:  Loss:     0.3459 Validation Accuracy: 0.675800\n",
      "Epoch 50, CIFAR-10 Batch 1:  Loss:     0.3616 Validation Accuracy: 0.676400\n",
      "Epoch 50, CIFAR-10 Batch 2:  Loss:     0.4013 Validation Accuracy: 0.656000\n",
      "Epoch 50, CIFAR-10 Batch 3:  Loss:     0.3510 Validation Accuracy: 0.653400\n",
      "Epoch 50, CIFAR-10 Batch 4:  Loss:     0.3717 Validation Accuracy: 0.664000\n",
      "Epoch 50, CIFAR-10 Batch 5:  Loss:     0.3503 Validation Accuracy: 0.670200\n"
     ]
    }
   ],
   "source": [
    "\"\"\"\n",
    "DON'T MODIFY ANYTHING IN THIS CELL\n",
    "\"\"\"\n",
    "save_model_path = './image_classification'\n",
    "\n",
    "print('Training...')\n",
    "with tf.Session() as sess:\n",
    "    # Initializing the variables\n",
    "    sess.run(tf.global_variables_initializer())\n",
    "    \n",
    "    # Training cycle\n",
    "    for epoch in range(epochs):\n",
    "        # Loop over all batches\n",
    "        n_batches = 5\n",
    "        for batch_i in range(1, n_batches + 1):\n",
    "            for batch_features, batch_labels in helper.load_preprocess_training_batch(batch_i, batch_size):\n",
    "                train_neural_network(sess, optimizer, keep_probability, batch_features, batch_labels)\n",
    "            print('Epoch {:>2}, CIFAR-10 Batch {}:  '.format(epoch + 1, batch_i), end='')\n",
    "            print_stats(sess, batch_features, batch_labels, cost, accuracy)\n",
    "            \n",
    "    # Save Model\n",
    "    saver = tf.train.Saver()\n",
    "    save_path = saver.save(sess, save_model_path)"
   ]
  },
  {
   "cell_type": "markdown",
   "metadata": {},
   "source": [
    "# Checkpoint\n",
    "The model has been saved to disk.\n",
    "## Test Model\n",
    "Test your model against the test dataset.  This will be your final accuracy. You should have an accuracy greater than 50%. If you don't, keep tweaking the model architecture and parameters."
   ]
  },
  {
   "cell_type": "code",
   "execution_count": 19,
   "metadata": {},
   "outputs": [
    {
     "name": "stdout",
     "output_type": "stream",
     "text": [
      "INFO:tensorflow:Restoring parameters from ./image_classification\n",
      "Testing Accuracy: 0.6620739459991455\n",
      "\n"
     ]
    },
    {
     "data": {
      "image/png": "[encoded data removed]",
      "text/plain": [
       "<matplotlib.figure.Figure at 0x190dced80b8>"
      ]
     },
     "metadata": {
      "image/png": {
       "height": 319,
       "width": 355
      }
     },
     "output_type": "display_data"
    }
   ],
   "source": [
    "\"\"\"\n",
    "DON'T MODIFY ANYTHING IN THIS CELL\n",
    "\"\"\"\n",
    "%matplotlib inline\n",
    "%config InlineBackend.figure_format = 'retina'\n",
    "\n",
    "import tensorflow as tf\n",
    "import pickle\n",
    "import helper\n",
    "import random\n",
    "\n",
    "# Set batch size if not already set\n",
    "try:\n",
    "    if batch_size:\n",
    "        pass\n",
    "except NameError:\n",
    "    batch_size = 64\n",
    "\n",
    "save_model_path = './image_classification'\n",
    "n_samples = 4\n",
    "top_n_predictions = 3\n",
    "\n",
    "def test_model():\n",
    "    \"\"\"\n",
    "    Test the saved model against the test dataset\n",
    "    \"\"\"\n",
    "\n",
    "    test_features, test_labels = pickle.load(open('preprocess_test.p', mode='rb'))\n",
    "    loaded_graph = tf.Graph()\n",
    "\n",
    "    with tf.Session(graph=loaded_graph) as sess:\n",
    "        # Load model\n",
    "        loader = tf.train.import_meta_graph(save_model_path + '.meta')\n",
    "        loader.restore(sess, save_model_path)\n",
    "\n",
    "        # Get Tensors from loaded model\n",
    "        loaded_x = loaded_graph.get_tensor_by_name('x:0')\n",
    "        loaded_y = loaded_graph.get_tensor_by_name('y:0')\n",
    "        loaded_keep_prob = loaded_graph.get_tensor_by_name('keep_prob:0')\n",
    "        loaded_logits = loaded_graph.get_tensor_by_name('logits:0')\n",
    "        loaded_acc = loaded_graph.get_tensor_by_name('accuracy:0')\n",
    "        \n",
    "        # Get accuracy in batches for memory limitations\n",
    "        test_batch_acc_total = 0\n",
    "        test_batch_count = 0\n",
    "        \n",
    "        for test_feature_batch, test_label_batch in helper.batch_features_labels(test_features, test_labels, batch_size):\n",
    "            test_batch_acc_total += sess.run(\n",
    "                loaded_acc,\n",
    "                feed_dict={loaded_x: test_feature_batch, loaded_y: test_label_batch, loaded_keep_prob: 1.0})\n",
    "            test_batch_count += 1\n",
    "\n",
    "        print('Testing Accuracy: {}\\n'.format(test_batch_acc_total/test_batch_count))\n",
    "\n",
    "        # Print Random Samples\n",
    "        random_test_features, random_test_labels = tuple(zip(*random.sample(list(zip(test_features, test_labels)), n_samples)))\n",
    "        random_test_predictions = sess.run(\n",
    "            tf.nn.top_k(tf.nn.softmax(loaded_logits), top_n_predictions),\n",
    "            feed_dict={loaded_x: random_test_features, loaded_y: random_test_labels, loaded_keep_prob: 1.0})\n",
    "        helper.display_image_predictions(random_test_features, random_test_labels, random_test_predictions)\n",
    "\n",
    "\n",
    "test_model()"
   ]
  },
  {
   "cell_type": "markdown",
   "metadata": {},
   "source": [
    "## Why 50-80% Accuracy?\n",
    "You might be wondering why you can't get an accuracy any higher. First things first, 50% isn't bad for a simple CNN.  Pure guessing would get you 10% accuracy. However, you might notice people are getting scores [well above 80%](http://rodrigob.github.io/are_we_there_yet/build/classification_datasets_results.html#43494641522d3130).  That's because we haven't taught you all there is to know about neural networks. We still need to cover a few more techniques.\n",
    "## Submitting This Project\n",
    "When submitting this project, make sure to run all the cells before saving the notebook.  Save the notebook file as \"dlnd_image_classification.ipynb\" and save it as a HTML file under \"File\" -> \"Download as\".  Include the \"helper.py\" and \"problem_unittests.py\" files in your submission."
   ]
  }
 ],
 "metadata": {
  "kernelspec": {
   "display_name": "Python 3",
   "language": "python",
   "name": "python3"
  },
  "language_info": {
   "codemirror_mode": {
    "name": "ipython",
    "version": 3
   },
   "file_extension": ".py",
   "mimetype": "text/x-python",
   "name": "python",
   "nbconvert_exporter": "python",
   "pygments_lexer": "ipython3",
   "version": "3.6.2"
  }
 },
 "nbformat": 4,
 "nbformat_minor": 1
}
